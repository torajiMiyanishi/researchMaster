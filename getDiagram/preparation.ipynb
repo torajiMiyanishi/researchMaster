{
 "cells": [
  {
   "cell_type": "code",
   "execution_count": 7,
   "metadata": {},
   "outputs": [
    {
     "name": "stderr",
     "output_type": "stream",
     "text": [
      "c:\\Users\\tora2\\anaconda3\\envs\\geo_env\\Lib\\site-packages\\fuzzywuzzy\\fuzz.py:11: UserWarning: Using slow pure-python SequenceMatcher. Install python-Levenshtein to remove this warning\n",
      "  warnings.warn('Using slow pure-python SequenceMatcher. Install python-Levenshtein to remove this warning')\n"
     ]
    }
   ],
   "source": [
    "\"\"\"\n",
    "preparation.ipynb\n",
    "作成対象のバス会社の情報を入力し、GTFS生成材料を作成する\n",
    "▽作成ファイル▽\n",
    "material.json:バス会社の基本情報\n",
    "material.pickle:latlon付きnavitimeバス停情報のテーブル\n",
    "\"\"\"\n",
    "\n",
    "import pandas as pd\n",
    "import requests\n",
    "from bs4 import BeautifulSoup\n",
    "\n",
    "from tqdm import tqdm\n",
    "import os\n",
    "import pickle\n",
    "import uuid\n",
    "import time\n",
    "\n",
    "from pathlib import Path\n",
    "\n",
    "import geopandas as gpd\n",
    "\n",
    "from fuzzywuzzy import process\n",
    "\n",
    "\"\"\"\n",
    "FUNCTION\n",
    "\"\"\"\n",
    "def adj(law): # navitimeのユニーク化の処理を除外する\n",
    "    if \"(\" in law:\n",
    "        return law.split(\"(\")[0]\n",
    "    elif \"〔\" in law:\n",
    "        return law.split(\"〔\")[0]\n",
    "    else:\n",
    "        return law\n",
    "    \n",
    "def dict_to_json(dir:str,data:dict):\n",
    "    \"\"\"\n",
    "    @dir    :書き込み先ファイルパス\n",
    "    @data   :任意の辞書型データ\n",
    "    \"\"\" \n",
    "    import json\n",
    "    with open(dir, mode=\"wt\", encoding=\"utf-8\") as f:\n",
    " \t    json.dump(data, f, ensure_ascii=False, indent=2)"
   ]
  },
  {
   "cell_type": "code",
   "execution_count": 8,
   "metadata": {},
   "outputs": [],
   "source": [
    "\"\"\"\n",
    "INPUT\n",
    "基本情報の手入力\n",
    "\"\"\"\n",
    "# 対象バス会社名（国土数値情報における定義）\n",
    "NAME_OF_BUS_COMPANY = \"東運輸（株）\"\n",
    "# バス会社のnavitimeトップページ\n",
    "URL_BUS_COMPANY_PAGE = \"https://www.navitime.co.jp/bus/company/00001313/\"\n",
    "# 対象バス会社が属する都道府県の国土数値情報バス停情報.shp\n",
    "DIR_KOKUDO_SUCHI_BUS_STOP_INFO = \"C:\\\\lab\\\\gtfses\\\\Ishigaki_pj\\\\busStop_KokudoSuuchi\\\\P11-22_47_SHP\\\\P11-22_47.shp\"\n",
    "# 作業ディレクトリの定義\n",
    "DIR_WRITING = \"C:/lab/gtfses/Ishigaki_pj\"\n",
    "\n",
    "# バス会社名確認用\n",
    "# tmp = gpd.read_file(DIR_KOKUDO_SUCHI_BUS_STOP_INFO)\n",
    "# tmp[\"P11_002\"].unique()"
   ]
  },
  {
   "cell_type": "code",
   "execution_count": 9,
   "metadata": {},
   "outputs": [],
   "source": [
    "\"\"\"\n",
    "当該バス会社の全バス停情報をnavitimeから取得するプログラム\n",
    "\"\"\"\n",
    "# 結果格納用辞書 key:nameOfBusStop value:link\n",
    "bsInfoAndLinks = []\n",
    "# 平仮名とリンク\n",
    "kana_link_dict = {}\n",
    "\n",
    "\n",
    "# バス停の平仮名からスクレイピング\n",
    "response = requests.get(URL_BUS_COMPANY_PAGE)\n",
    "soup = BeautifulSoup(response.text, \"html.parser\")\n",
    "links = soup.find_all(\"dl\", class_=\"kana-frame\")\n",
    "\n",
    "for link in links:\n",
    "    soup_c = BeautifulSoup(str(link), \"html.parser\")\n",
    "\n",
    "    for a in soup_c.select(\"a\"):\n",
    "        kana_link_dict[a.text] = a[\"href\"]\n",
    "\n",
    "# バス停名とリンクを取得\n",
    "for kana_link in list(kana_link_dict.values()):        \n",
    "    response = requests.get(\"https://\" + kana_link[2:])\n",
    "    soup = BeautifulSoup(response.text,\"html.parser\")\n",
    "    node_contents = soup.find(\"ul\",class_=\"node-list\")\n",
    "    nodes = BeautifulSoup(str(node_contents),\"html.parser\").find_all(\"li\")\n",
    "    for node in nodes:\n",
    "        soup_c = BeautifulSoup(str(node),\"html.parser\")\n",
    "        url = soup_c.find(\"a\")[\"href\"]\n",
    "        nameBusStop = soup_c.find(\"rb\").text\n",
    "        id = url.split(\"/\")[-2]\n",
    "        #結果格納\n",
    "        bsInfoAndLinks.append({\"nameBS_navitime\":nameBusStop,\"url\":url,\"id\":id})"
   ]
  },
  {
   "cell_type": "code",
   "execution_count": 4,
   "metadata": {},
   "outputs": [
    {
     "ename": "NameError",
     "evalue": "name 'gpd' is not defined",
     "output_type": "error",
     "traceback": [
      "\u001b[1;31m---------------------------------------------------------------------------\u001b[0m",
      "\u001b[1;31mNameError\u001b[0m                                 Traceback (most recent call last)",
      "Cell \u001b[1;32mIn[4], line 5\u001b[0m\n\u001b[0;32m      1\u001b[0m \u001b[38;5;124;03m\"\"\"\u001b[39;00m\n\u001b[0;32m      2\u001b[0m \u001b[38;5;124;03mnavitimeから取得した情報にlatlonを付与（国土数値情報との突合）\u001b[39;00m\n\u001b[0;32m      3\u001b[0m \u001b[38;5;124;03m\"\"\"\u001b[39;00m\n\u001b[0;32m      4\u001b[0m \u001b[38;5;66;03m# 国土数値情報からバス会社名でクエリして、必要なカラムを抽出\u001b[39;00m\n\u001b[1;32m----> 5\u001b[0m queried \u001b[38;5;241m=\u001b[39m \u001b[43mgpd\u001b[49m\u001b[38;5;241m.\u001b[39mread_file(DIR_KOKUDO_SUCHI_BUS_STOP_INFO)\u001b[38;5;241m.\u001b[39mfilter(items\u001b[38;5;241m=\u001b[39m[\u001b[38;5;124m\"\u001b[39m\u001b[38;5;124mP11_001\u001b[39m\u001b[38;5;124m\"\u001b[39m,\u001b[38;5;124m\"\u001b[39m\u001b[38;5;124mP11_002\u001b[39m\u001b[38;5;124m\"\u001b[39m,\u001b[38;5;124m\"\u001b[39m\u001b[38;5;124mgeometry\u001b[39m\u001b[38;5;124m\"\u001b[39m])\u001b[38;5;241m.\u001b[39mset_axis([\u001b[38;5;124m\"\u001b[39m\u001b[38;5;124mnameBS_kokudo\u001b[39m\u001b[38;5;124m\"\u001b[39m,\u001b[38;5;124m\"\u001b[39m\u001b[38;5;124mnameOfCompany\u001b[39m\u001b[38;5;124m\"\u001b[39m,\u001b[38;5;124m\"\u001b[39m\u001b[38;5;124mgeometry\u001b[39m\u001b[38;5;124m\"\u001b[39m],axis\u001b[38;5;241m=\u001b[39m\u001b[38;5;241m1\u001b[39m)\u001b[38;5;241m.\u001b[39mquery(\u001b[38;5;124m\"\u001b[39m\u001b[38;5;124mnameOfCompany == @NAME_OF_BUS_COMPANY\u001b[39m\u001b[38;5;124m\"\u001b[39m)\n\u001b[0;32m      7\u001b[0m \u001b[38;5;66;03m# merge1 navitimeのユニーク化処理を回避してマージ\u001b[39;00m\n\u001b[0;32m      8\u001b[0m navitimeDf \u001b[38;5;241m=\u001b[39m pd\u001b[38;5;241m.\u001b[39mDataFrame(bsInfoAndLinks) \u001b[38;5;66;03m# スクレイピングした情報をpandas.DataFrameに\u001b[39;00m\n",
      "\u001b[1;31mNameError\u001b[0m: name 'gpd' is not defined"
     ]
    }
   ],
   "source": [
    "\"\"\"\n",
    "navitimeから取得した情報にlatlonを付与（国土数値情報との突合）\n",
    "\"\"\"\n",
    "# 国土数値情報からバス会社名でクエリして、必要なカラムを抽出\n",
    "queried = gpd.read_file(DIR_KOKUDO_SUCHI_BUS_STOP_INFO).filter(items=[\"P11_001\",\"P11_002\",\"geometry\"]).set_axis([\"nameBS_kokudo\",\"nameOfCompany\",\"geometry\"],axis=1).query(\"nameOfCompany == @NAME_OF_BUS_COMPANY\")\n",
    "\n",
    "# merge1 navitimeのユニーク化処理を回避してマージ\n",
    "navitimeDf = pd.DataFrame(bsInfoAndLinks) # スクレイピングした情報をpandas.DataFrameに\n",
    "navitimeDf[\"nameBS_navitime_adj\"] = navitimeDf[\"nameBS_navitime\"].map(adj) # navitimeのユニーク化の処理を除外する\n",
    "merged = pd.merge(navitimeDf,queried,left_on=\"nameBS_navitime_adj\",right_on=\"nameBS_kokudo\",how=\"left\")\n",
    "matched = merged.query(\"nameBS_kokudo.notnull()\")\n",
    "unMatched = merged.query(\"nameBS_kokudo.isnull()\").filter(items=[\"nameBS_navitime\",\"url\",\"id\",\"nameBS_navitime_adj\"])\n",
    "\n",
    "# merge2 言語処理で近いものをマージ\n",
    "choices = list(set(queried[\"nameBS_kokudo\"].to_list()) - set(matched[\"nameBS_kokudo\"].to_list()))\n",
    "unMatched[\"expected\"] = unMatched[\"nameBS_navitime_adj\"].apply(lambda x:process.extractOne(x,choices)[0])\n",
    "unMatched"
   ]
  },
  {
   "cell_type": "code",
   "execution_count": 16,
   "metadata": {},
   "outputs": [],
   "source": [
    "\"\"\"\n",
    "上記で突合できなかったものを手作業で突合\n",
    "\"\"\"\n",
    "# pd.set_option(\"display.max_row\",150)\n",
    "unMatched.at[129,\"expected\"] = \"米原キャンプ場\"\t"
   ]
  },
  {
   "cell_type": "code",
   "execution_count": 27,
   "metadata": {},
   "outputs": [],
   "source": [
    "\"\"\"\n",
    "unMatchとmatchの結合\n",
    "\"\"\"\n",
    "unMatched_adj   = pd.merge(unMatched,queried,left_on=\"expected\",right_on=\"nameBS_kokudo\",how=\"left\")\n",
    "geoNavitime     = pd.concat([matched,unMatched_adj],axis=0).filter(items=[\"nameBS_navitime\",\"url\",\"id\",\"geometry\"])\n",
    "gdfNavitime     = gpd.GeoDataFrame(geoNavitime,geometry=\"geometry\")\n",
    "gdfNavitime[\"lon\"], gdfNavitime[\"lat\"] = gdfNavitime[\"geometry\"].x, gdfNavitime[\"geometry\"].y\n",
    "materialPickle  = gdfNavitime.drop(columns=(\"geometry\"))"
   ]
  },
  {
   "cell_type": "code",
   "execution_count": 29,
   "metadata": {},
   "outputs": [],
   "source": [
    "\"\"\"\n",
    "OUTPUT\n",
    "material.json\n",
    "material.pickle\n",
    "の出力\n",
    "\"\"\"\n",
    "materialJson = {\n",
    "    \"NAME_OF_BUS_COMPANY\": NAME_OF_BUS_COMPANY,\n",
    "    \"URL_BUS_COMPANY_PAGE\": URL_BUS_COMPANY_PAGE,\n",
    "    \"DIR_WRITING\": DIR_WRITING\n",
    "}\n",
    "dict_to_json(DIR_WRITING+\"/material.json\",materialJson) \n",
    "materialPickle.to_pickle(DIR_WRITING+\"/material.pickle\")"
   ]
  }
 ],
 "metadata": {
  "kernelspec": {
   "display_name": "geo_env",
   "language": "python",
   "name": "python3"
  },
  "language_info": {
   "codemirror_mode": {
    "name": "ipython",
    "version": 3
   },
   "file_extension": ".py",
   "mimetype": "text/x-python",
   "name": "python",
   "nbconvert_exporter": "python",
   "pygments_lexer": "ipython3",
   "version": "3.12.0"
  }
 },
 "nbformat": 4,
 "nbformat_minor": 2
}
